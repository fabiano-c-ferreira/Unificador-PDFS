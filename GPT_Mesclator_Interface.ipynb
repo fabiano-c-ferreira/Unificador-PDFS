{
 "cells": [
  {
   "cell_type": "code",
   "execution_count": null,
   "metadata": {},
   "outputs": [],
   "source": [
    "#essa é a arte grafica 01"
   ]
  },
  {
   "cell_type": "markdown",
   "metadata": {},
   "source": [
    "CÓDIGO FEITO PELO CHAT GPT 4.0"
   ]
  },
  {
   "cell_type": "code",
   "execution_count": 18,
   "metadata": {},
   "outputs": [],
   "source": [
    "import os\n",
    "import tkinter as tk\n",
    "from tkinter import filedialog, messagebox\n",
    "from PIL import Image, ImageTk\n",
    "\n",
    "# Função para selecionar a pasta de PDFs\n",
    "def selecionar_pasta():\n",
    "    pasta = filedialog.askdirectory()\n",
    "    if pasta:\n",
    "        entrada_pasta.set(pasta)\n",
    "\n",
    "# Função para selecionar o arquivo Excel\n",
    "def selecionar_planilha():\n",
    "    arquivo = filedialog.askopenfilename(filetypes=[(\"Excel files\", \"*.xlsx\")])\n",
    "    if arquivo:\n",
    "        entrada_planilha.set(arquivo)\n",
    "\n",
    "# Função para executar o processo\n",
    "def executar_processo():\n",
    "    pasta = entrada_pasta.get()\n",
    "    planilha = entrada_planilha.get()\n",
    "    \n",
    "    if not pasta or not planilha:\n",
    "        messagebox.showerror(\"Erro\", \"Por favor, selecione a pasta e a planilha.\")\n",
    "        return\n",
    "    \n",
    "    # Aqui chamaremos as funções de renomear e mesclar\n",
    "    # renomear_arquivos(pasta, obter_lista_nomes(planilha))\n",
    "    # mesclar_pdfs(pasta, os.path.join(pasta, 'PDFão_Mescladão.pdf'))\n",
    "\n",
    "    messagebox.showinfo(\"Concluído\", \"Processo concluído com sucesso!\")\n",
    "\n",
    "# Configuração da janela principal\n",
    "janela = tk.Tk()\n",
    "janela.title(\"Gestor de Arquivos de NF - V 1.00\")\n",
    "janela.geometry(\"400x350\")\n",
    "\n",
    "# Carregar e exibir o logotipo\n",
    "try:\n",
    "    imagem_logo = Image.open(\"logo.png\")\n",
    "    largura_original, altura_original = imagem_logo.size\n",
    "    nova_largura = int(largura_original * 0.25)  # Reduzir mais 30% do tamanho atual (49% do original)\n",
    "    nova_altura = int(altura_original * 0.25)\n",
    "    imagem_logo = imagem_logo.resize((nova_largura, nova_altura), Image.LANCZOS)\n",
    "    logo = ImageTk.PhotoImage(imagem_logo)\n",
    "    label_logo = tk.Label(janela, image=logo)\n",
    "    label_logo.place(relx=0.025, rely=0.025, anchor='nw')  # Posiciona no canto superior ESQUERDO\n",
    "except Exception as e:\n",
    "    print(f\"Erro ao carregar o logotipo: {e}\")\n",
    "\n",
    "# Adicionar título\n",
    "titulo = tk.Label(janela, text=\"Renomeador de NFSe\", font=(\"Calibri\", 17, \"bold\"), fg=\"#555555\")\n",
    "titulo.place(relx=0.5, rely=0.03, anchor='n')  # Centraliza o título horizontalmente\n",
    "\n",
    "# Ajuste para posicionar os elementos abaixo da logo\n",
    "offset_y = nova_altura + 50  # Calcula o deslocamento vertical abaixo da logo\n",
    "\n",
    "# Entrada para a pasta\n",
    "entrada_pasta = tk.StringVar()\n",
    "tk.Label(janela, text=\"Selecione a pasta de PDFs:\").pack(pady=(offset_y, 0))\n",
    "tk.Entry(janela, textvariable=entrada_pasta, width=50).pack()\n",
    "tk.Button(janela, text=\"Procurar\", command=selecionar_pasta).pack(pady=5)\n",
    "\n",
    "# Entrada para o arquivo Excel\n",
    "entrada_planilha = tk.StringVar()\n",
    "tk.Label(janela, text=\"Selecione a planilha Excel:\").pack(pady=(40, 0))\n",
    "tk.Entry(janela, textvariable=entrada_planilha, width=50).pack()\n",
    "tk.Button(janela, text=\"Procurar\", command=selecionar_planilha).pack(pady=5)\n",
    "\n",
    "# Botão para executar o processo\n",
    "tk.Button(janela, text=\"Executar\", command=executar_processo, bg=\"#FF5733\", fg=\"white\").pack(pady=20)\n",
    "\n",
    "janela.mainloop()"
   ]
  }
 ],
 "metadata": {
  "kernelspec": {
   "display_name": "Python 3",
   "language": "python",
   "name": "python3"
  },
  "language_info": {
   "codemirror_mode": {
    "name": "ipython",
    "version": 3
   },
   "file_extension": ".py",
   "mimetype": "text/x-python",
   "name": "python",
   "nbconvert_exporter": "python",
   "pygments_lexer": "ipython3",
   "version": "3.12.0"
  }
 },
 "nbformat": 4,
 "nbformat_minor": 2
}
