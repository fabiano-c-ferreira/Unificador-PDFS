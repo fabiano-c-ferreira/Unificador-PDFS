{
 "cells": [
  {
   "cell_type": "code",
   "execution_count": 1,
   "metadata": {},
   "outputs": [],
   "source": [
    "import os\n",
    "import openpyxl\n",
    "from PyPDF2 import PdfMerger"
   ]
  },
  {
   "cell_type": "code",
   "execution_count": 2,
   "metadata": {},
   "outputs": [],
   "source": [
    "# Pasta de entrada onde os arquivos PDF estão localizados\n",
    "pasta_entrada = r'C:\\Users\\fabia\\Desktop\\PDF_IN'\n",
    "\n",
    "# Arquivo de saída onde o PDF mesclado será salvo\n",
    "arquivo_saida = r'C:\\Users\\fabia\\Desktop\\PDF_IN\\PDFão_Mescladão.pdf'"
   ]
  },
  {
   "cell_type": "code",
   "execution_count": 3,
   "metadata": {},
   "outputs": [],
   "source": [
    "def mesclar_pdfs(pasta_entrada, arquivo_saida):\n",
    "    merger = PdfMerger()\n",
    "\n",
    "    # Obter a lista de arquivos na pasta de entrada e ordená-los pela data de criação, em ordem crescente\n",
    "    arquivos_pdf = [os.path.join(pasta_entrada, arquivo) for arquivo in os.listdir(pasta_entrada) if arquivo.endswith('.pdf')]\n",
    "    arquivos_pdf.sort(key=lambda arquivo: os.path.getctime(arquivo), reverse=True)\n",
    "\n",
    "    # Adicionar cada arquivo PDF à mesclagem\n",
    "    for arquivo in arquivos_pdf:\n",
    "        with open(arquivo, 'rb') as f:\n",
    "            merger.append(f)\n",
    "\n",
    "    # Salvar a mesclagem em um arquivo de saída\n",
    "    with open(arquivo_saida, 'wb') as f:\n",
    "        merger.write(f)\n",
    "\n",
    "\n",
    "# Chamar a função para mesclar os PDFs na pasta de entrada\n",
    "mesclar_pdfs(pasta_entrada, arquivo_saida)"
   ]
  }
 ],
 "metadata": {
  "kernelspec": {
   "display_name": "Python 3",
   "language": "python",
   "name": "python3"
  },
  "language_info": {
   "codemirror_mode": {
    "name": "ipython",
    "version": 3
   },
   "file_extension": ".py",
   "mimetype": "text/x-python",
   "name": "python",
   "nbconvert_exporter": "python",
   "pygments_lexer": "ipython3",
   "version": "3.11.4"
  }
 },
 "nbformat": 4,
 "nbformat_minor": 2
}
