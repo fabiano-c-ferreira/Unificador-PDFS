{
 "cells": [
  {
   "cell_type": "markdown",
   "id": "9d9dbff0",
   "metadata": {},
   "source": [
    "--------------- IMPORTAÇÕES DE BIBLIOTECAS ---------------"
   ]
  },
  {
   "cell_type": "code",
   "execution_count": 3,
   "id": "c9c536fa",
   "metadata": {},
   "outputs": [],
   "source": [
    "import os\n",
    "from PyPDF2 import PdfMerger"
   ]
  },
  {
   "cell_type": "markdown",
   "id": "1bcb1158",
   "metadata": {},
   "source": [
    "-------------- MAIN CODE ----------------"
   ]
  },
  {
   "cell_type": "code",
   "execution_count": null,
   "id": "203dca88",
   "metadata": {},
   "outputs": [],
   "source": [
    "# Função para unir PDFs\n",
    "def unir_pdfs(caminho_pasta, arquivo_saida):\n",
    "    merger = PdfMerger()\n",
    "    # Percorre todos os arquivos da pasta\n",
    "    for root, _, files in os.walk(caminho_pasta):\n",
    "        for file in files:\n",
    "            # Verifica se é um arquivo PDF\n",
    "            if file.endswith(\".pdf\"):\n",
    "                # Caminho completo do arquivo\n",
    "                arquivo_pdf = os.path.join(root, file)\n",
    "                # Abre o arquivo PDF e adiciona ao merger\n",
    "                merger.append(arquivo_pdf)\n",
    "    # Salva o arquivo PDF de saída\n",
    "    merger.write(arquivo_saida)\n",
    "    merger.close()\n",
    "    print(\"PDFs unidos com sucesso! O arquivo final está na MESMA pasta onde estão os pdfs!\")\n",
    "    \n",
    "# Execução do programa\n",
    "if __name__ == '__main__':\n",
    "    caminho_pasta = 'C:/Users/fabia/Desktop/pdfs IN'  # Substitua pelo caminho da pasta com os arquivos PDF\n",
    "    arquivo_saida = 'C:/Users/fabia/Desktop/pdfs IN/PDF_grandao_Mermatem.pdf'  # Nome do arquivo PDF de saída\n",
    "    unir_pdfs(caminho_pasta, arquivo_saida)\n",
    " "
   ]
  }
 ],
 "metadata": {
  "kernelspec": {
   "display_name": "Python 3 (ipykernel)",
   "language": "python",
   "name": "python3"
  },
  "language_info": {
   "codemirror_mode": {
    "name": "ipython",
    "version": 3
   },
   "file_extension": ".py",
   "mimetype": "text/x-python",
   "name": "python",
   "nbconvert_exporter": "python",
   "pygments_lexer": "ipython3",
   "version": "3.12.0"
  }
 },
 "nbformat": 4,
 "nbformat_minor": 5
}
