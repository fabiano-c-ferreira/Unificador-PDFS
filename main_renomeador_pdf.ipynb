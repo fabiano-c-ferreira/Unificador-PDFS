{
 "cells": [
  {
   "cell_type": "code",
   "execution_count": 6,
   "metadata": {},
   "outputs": [],
   "source": [
    "# COLOCAR NA PASTA OS ARQUIVOS NA MESMA ORDEM DA LISTA\n",
    "#(ARQUIVO DA PRIMEIRA LINHA, É O DA PRIMEIRA LINHA DA PLANILHA TAMBÉM)"
   ]
  },
  {
   "cell_type": "markdown",
   "metadata": {},
   "source": [
    "--------------- IMPORTAÇÕES DE BIBLIOTECAS ---------------"
   ]
  },
  {
   "cell_type": "code",
   "execution_count": 7,
   "metadata": {},
   "outputs": [],
   "source": [
    "import os\n",
    "import openpyxl"
   ]
  },
  {
   "cell_type": "markdown",
   "metadata": {},
   "source": [
    "ENTRADAS E CAMINHOS"
   ]
  },
  {
   "cell_type": "code",
   "execution_count": 8,
   "metadata": {},
   "outputs": [],
   "source": [
    "ano = input(\"Insira o Ano da NF (com 4 dígitos):\")\n",
    "mes = input('Insira o número do mês de emissão da NF (com 2 dígitos)')\n",
    "\n",
    "\n",
    "# Caminhos dos arquivos e da planilha\n",
    "pasta_notas = r'C:\\Users\\fabia\\Desktop\\Notas_Antes'\n",
    "caminho_planilha = r'C:\\Users\\fabia\\Desktop\\referencia.xlsx'"
   ]
  },
  {
   "cell_type": "markdown",
   "metadata": {},
   "source": [
    "-------------- MAIN CODE ----------------"
   ]
  },
  {
   "cell_type": "code",
   "execution_count": 9,
   "metadata": {},
   "outputs": [
    {
     "name": "stdout",
     "output_type": "stream",
     "text": [
      "Renomeando 43149022234271598000175000000000012324018704247518.pdf para NFS-e 2024.01 - LEAN IT BUSINESS.pdf\n",
      "Renomeando 43149022234271598000175000000000012424014548217093.pdf para NFS-e 2024.01 - ELOÍ TINTAS.pdf\n",
      "Renomeando 43149022234271598000175000000000012524012595992259.pdf para NFS-e 2024.01 - MIRRA MODAS.pdf\n",
      "Renomeando 43149022234271598000175000000000012624017893398147.pdf para NFS-e 2024.01 - BRYCIA COSMÉTICOS.pdf\n",
      "Renomeando 43149022234271598000175000000000012724017207286694.pdf para NFS-e 2024.01 - MODEART MÓVEIS (CLASSE 20).pdf\n",
      "Renomeando 43149022234271598000175000000000012824015089445680.pdf para NFS-e 2024.01 - MODEART MÓVEIS (CLASSE 35).pdf\n",
      "Renomeando 43149022234271598000175000000000012924014656862563.pdf para NFS-e 2024.01 - BAÚ DO REI.pdf\n",
      "Renomeando 43149022234271598000175000000000013024019602397014.pdf para NFS-e 2024.01 - FLOCÃO DE MILHO IDEAL.pdf\n",
      "Renomeando 43149022234271598000175000000000013124016878964540.pdf para NFS-e 2024.01 - RESENHA SPORT WEAR.pdf\n",
      "Renomeando 43149022234271598000175000000000013224017355339626.pdf para NFS-e 2024.01 - 92 CASES ACESSÓRIOS.pdf\n",
      "Renomeando 43149022234271598000175000000000013324019872195180.pdf para NFS-e 2024.01 - ZANAGRO.pdf\n",
      "Renomeando 43149022234271598000175000000000013424019916060980.pdf para NFS-e 2024.01 - IGREJA BATISTA DA VILA.pdf\n",
      "Renomeando 43149022234271598000175000000000013524013336030818.pdf para NFS-e 2024.01 - CLUBE DE TIRO E CAÇA DE ITÁPOLIS (CLASSE 13).pdf\n",
      "Renomeando 43149022234271598000175000000000013624014719879443.pdf para NFS-e 2024.01 - CLUBE DE TIRO E CAÇA DE ITÁPOLIS (CLASSE 35).pdf\n",
      "Renomeando 43149022234271598000175000000000013724010929338709.pdf para NFS-e 2024.01 - TCC - TURISMO CLÁSSICO CATARINENSE.pdf\n",
      "Renomeando 43149022234271598000175000000000013824010586096219.pdf para NFS-e 2024.01 - TRIPPIN COMPANY.pdf\n",
      "Renomeando 43149022234271598000175000000000013924016544657720.pdf para NFS-e 2024.01 - KARANGOCAR AUTOPEÇAS.pdf\n",
      "Renomeando 43149022234271598000175000000000014024010095648932.pdf para NFS-e 2024.01 - LW ETIQUETAS.pdf\n",
      "Renomeando 43149022234271598000175000000000014124010034961553.pdf para NFS-e 2024.01 - GOALFIT ACADEMIA ESPECIALIZADA.pdf\n",
      "Renomeando 43149022234271598000175000000000014224013072527880.pdf para NFS-e 2024.01 - CAMALEÃO ADVENTURE.pdf\n",
      "Renomeando 43149022234271598000175000000000014324014929478382.pdf para NFS-e 2024.01 - FIG DIGITAL.pdf\n",
      "Renomeando 43149022234271598000175000000000014424014927018469.pdf para NFS-e 2024.01 - QUALITALIA EMBUTIDOS ARTESANAIS.pdf\n",
      "Renomeando 43149022234271598000175000000000014524010512438649.pdf para NFS-e 2024.01 - IDEAL PACK (OPOSIÇÃO).pdf\n",
      "Renomeando 43149022234271598000175000000000014624016913537551.pdf para NFS-e 2024.01 - CAFÉ ZÉ MARIA.pdf\n",
      "Renomeando 43149022234271598000175000000000014724012568983654.pdf para NFS-e 2024.01 - MPD ANDRADE CONSTRUTORA.pdf\n",
      "Renomeando 43149022234271598000175000000000014824015558584437.pdf para NFS-e 2024.01 - BUDDY.pdf\n",
      "Renomeando 43149022234271598000175000000000014924015621433430.pdf para NFS-e 2024.01 - EVIDENCE JEANS WEAR.pdf\n",
      "Renomeando 43149022234271598000175000000000015024015464836002.pdf para NFS-e 2024.01 - VALLE CORRETORA DE SEGUROS.pdf\n",
      "Renomeando 43149022234271598000175000000000015124010161460220.pdf para NFS-e 2024.01 - BC.pdf\n",
      "Renomeando 43149022234271598000175000000000015224016352180160.pdf para NFS-e 2024.01 - BISON CAMPER.pdf\n",
      "Renomeando 43149022234271598000175000000000015324011436268834.pdf para NFS-e 2024.01 - NEW HOPE PROFESSIONAL.pdf\n",
      "Renomeando 43149022234271598000175000000000015424010125427057.pdf para NFS-e 2024.01 - DOGLIZ.pdf\n",
      "Renomeando 43149022234271598000175000000000015524017005266944.pdf para NFS-e 2024.01 - ESOLVERE (Contrato).pdf\n",
      "Renomeando 43149022234271598000175000000000015624010399580720.pdf para NFS-e 2024.01 - FRODO GATO E CAFÉ.pdf\n",
      "Renomeando 43149022234271598000175000000000015724018018977394.pdf para NFS-e 2024.01 - PEEL.pdf\n",
      "Renomeando 43149022234271598000175000000000015824018746998780.pdf para NFS-e 2024.01 - ECOMETRIA.pdf\n",
      "Renomeando 43149022234271598000175000000000015924011146270080.pdf para NFS-e 2024.01 - FB ESQUADRIAS DE PVC.pdf\n"
     ]
    }
   ],
   "source": [
    "# Função para obter a lista de nomes a partir da planilha\n",
    "def obter_lista_nomes(caminho_planilha):\n",
    "    workbook = openpyxl.load_workbook(caminho_planilha)\n",
    "    sheet = workbook.active\n",
    "\n",
    "    lista_nomes = [cell.value for cell in sheet['A']]\n",
    "    workbook.close()\n",
    "\n",
    "    return lista_nomes\n",
    "\n",
    "# Função para renomear os arquivos na pasta\n",
    "def renomear_arquivos(pasta, lista_nomes):\n",
    "    lista_arquivos = os.listdir(pasta)\n",
    "\n",
    "    for i, arquivo in enumerate(lista_arquivos):\n",
    "        nome_cliente = lista_nomes[i]\n",
    "        novo_nome = f'NFS-e {ano}.{mes} - {nome_cliente}.pdf'\n",
    "\n",
    "        caminho_antigo = os.path.join(pasta, arquivo)\n",
    "        caminho_novo = os.path.join(pasta, novo_nome)\n",
    "\n",
    "        os.rename(caminho_antigo, caminho_novo)\n",
    "        print(f'Renomeando {arquivo} para {novo_nome}')\n",
    "\n",
    "# Obtém a lista de nomes da planilha\n",
    "lista_nomes = obter_lista_nomes(caminho_planilha)\n",
    "\n",
    "# Renomeia os arquivos na pasta de acordo com a lista de nomes\n",
    "renomear_arquivos(pasta_notas, lista_nomes)\n"
   ]
  }
 ],
 "metadata": {
  "kernelspec": {
   "display_name": "Python 3",
   "language": "python",
   "name": "python3"
  },
  "language_info": {
   "codemirror_mode": {
    "name": "ipython",
    "version": 3
   },
   "file_extension": ".py",
   "mimetype": "text/x-python",
   "name": "python",
   "nbconvert_exporter": "python",
   "pygments_lexer": "ipython3",
   "version": "3.11.4"
  }
 },
 "nbformat": 4,
 "nbformat_minor": 2
}
