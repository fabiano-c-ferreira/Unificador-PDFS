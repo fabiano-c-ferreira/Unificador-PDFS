{
 "cells": [
  {
   "cell_type": "code",
   "execution_count": null,
   "metadata": {},
   "outputs": [],
   "source": [
    "# COLOCAR NA PASTA OS ARQUIVOS NA MESMA ORDEM DA LISTA\n",
    "#(ARQUIVO DA PRIMEIRA LINHA, É O DA PRIMEIRA LINHA DA PLANILHA TAMBÉM)"
   ]
  },
  {
   "cell_type": "markdown",
   "metadata": {},
   "source": [
    "--------------- IMPORTAÇÕES DE BIBLIOTECAS ---------------"
   ]
  },
  {
   "cell_type": "code",
   "execution_count": null,
   "metadata": {},
   "outputs": [],
   "source": [
    "import os\n",
    "import openpyxl\n",
    "from PyPDF2 import PdfMerger"
   ]
  },
  {
   "cell_type": "markdown",
   "metadata": {},
   "source": [
    "ENTRADAS E CAMINHOS"
   ]
  },
  {
   "cell_type": "code",
   "execution_count": null,
   "metadata": {},
   "outputs": [],
   "source": [
    "ano = input(\"Insira o Ano da NF (com 4 dígitos):\")\n",
    "mes = input('Insira o número do mês de emissão da NF (com 2 dígitos)')\n",
    "\n",
    "\n",
    "# Caminhos dos arquivos e da planilha\n",
    "pasta_notas = r'C:\\Users\\fabia\\Desktop\\Notas_Antes'\n",
    "caminho_planilha = r'C:\\Users\\fabia\\Desktop\\referencia.xlsx'"
   ]
  },
  {
   "cell_type": "markdown",
   "metadata": {},
   "source": [
    "-------------- FUNÇÕES ----------------"
   ]
  },
  {
   "cell_type": "code",
   "execution_count": null,
   "metadata": {},
   "outputs": [],
   "source": [
    "def mesclar_pdfs(pasta_entrada, arquivo_saida):\n",
    "    merger = PdfMerger()\n",
    "\n",
    "    # Obter a lista de arquivos na pasta de entrada e ordená-los pela data de criação, em ordem crescente\n",
    "    arquivos_pdf = [os.path.join(pasta_entrada, arquivo) for arquivo in os.listdir(pasta_entrada) if arquivo.endswith('.pdf')]\n",
    "    arquivos_pdf.sort(key=lambda arquivo: os.path.getctime(arquivo), reverse=True)\n",
    "\n",
    "    # Adicionar cada arquivo PDF à mesclagem\n",
    "    for arquivo in arquivos_pdf:\n",
    "        with open(arquivo, 'rb') as f:\n",
    "            merger.append(f)\n",
    "\n",
    "    # Salvar a mesclagem em um arquivo de saída\n",
    "    with open(arquivo_saida, 'wb') as f:\n",
    "        merger.write(f)\n",
    "\n",
    "# Função para obter a lista de nomes a partir da planilha\n",
    "def obter_lista_nomes(caminho_planilha):\n",
    "    workbook = openpyxl.load_workbook(caminho_planilha)\n",
    "    sheet = workbook.active\n",
    "\n",
    "    lista_nomes = [cell.value for cell in sheet['A']]\n",
    "    workbook.close()\n",
    "\n",
    "    return lista_nomes\n",
    "\n",
    "# Função para renomear os arquivos na pasta\n",
    "def renomear_arquivos(pasta, lista_nomes):\n",
    "    lista_arquivos = os.listdir(pasta)\n",
    "\n",
    "    for i, arquivo in enumerate(lista_arquivos):\n",
    "        nome_cliente = lista_nomes[i]\n",
    "        novo_nome = f'NFS-e {ano}.{mes} - {nome_cliente}.pdf'\n",
    "\n",
    "        caminho_antigo = os.path.join(pasta, arquivo)\n",
    "        caminho_novo = os.path.join(pasta, novo_nome)\n",
    "\n",
    "        os.rename(caminho_antigo, caminho_novo)\n",
    "        print(f'Renomeando {arquivo} para {novo_nome}')\n",
    "\n",
    "\n"
   ]
  },
  {
   "cell_type": "markdown",
   "metadata": {},
   "source": [
    "MAIN CODE (RENOMEADOR + MESCLATOR)"
   ]
  },
  {
   "cell_type": "code",
   "execution_count": null,
   "metadata": {},
   "outputs": [],
   "source": [
    "# Obtém a lista de nomes da planilha\n",
    "lista_nomes = obter_lista_nomes(caminho_planilha)\n",
    "\n",
    "# Renomeia os arquivos na pasta de acordo com a lista de nomes\n",
    "renomear_arquivos(pasta_notas, lista_nomes)\n",
    "\n",
    "\n",
    "# Pasta de entrada onde os arquivos PDF estão localizados\n",
    "pasta_entrada = r'C:\\Users\\fabia\\Desktop\\Notas_Antes'\n",
    "\n",
    "# Arquivo de saída onde o PDF mesclado será salvo\n",
    "arquivo_saida = r'C:\\Users\\fabia\\Desktop\\Notas_Antes\\PDF_Mesclado.pdf'\n",
    "\n",
    "# Chamar a função para mesclar os PDFs na pasta de entrada\n",
    "mesclar_pdfs(pasta_entrada, arquivo_saida)\n",
    "\n",
    "\n",
    "print(\"CONCLUÍDO! Tudo mesclado na MESMA pasta E A IMPRESSÃO VAI SAIR EM ORDEM!!!\")"
   ]
  }
 ],
 "metadata": {
  "kernelspec": {
   "display_name": "Python 3",
   "language": "python",
   "name": "python3"
  },
  "language_info": {
   "codemirror_mode": {
    "name": "ipython",
    "version": 3
   },
   "file_extension": ".py",
   "mimetype": "text/x-python",
   "name": "python",
   "nbconvert_exporter": "python",
   "pygments_lexer": "ipython3",
   "version": "3.11.4"
  }
 },
 "nbformat": 4,
 "nbformat_minor": 2
}
