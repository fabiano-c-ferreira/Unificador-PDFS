{
 "cells": [
  {
   "cell_type": "markdown",
   "metadata": {},
   "source": [
    "--------------- IMPORTAÇÕES DE BIBLIOTECAS ---------------"
   ]
  },
  {
   "cell_type": "code",
   "execution_count": null,
   "metadata": {},
   "outputs": [],
   "source": [
    "import os\n",
    "import openpyxl"
   ]
  },
  {
   "cell_type": "markdown",
   "metadata": {},
   "source": [
    "-------------- MAIN CODE ----------------"
   ]
  },
  {
   "cell_type": "code",
   "execution_count": null,
   "metadata": {},
   "outputs": [],
   "source": [
    "# Caminhos dos arquivos e da planilha\n",
    "pasta_notas = r'C:\\Users\\fabia\\Desktop\\Notas_Antes'\n",
    "caminho_planilha = r'C:\\Users\\fabia\\Desktop\\referencia.xlsx'\n",
    "\n",
    "# Função para obter a lista de nomes a partir da planilha\n",
    "def obter_lista_nomes(caminho_planilha):\n",
    "    workbook = openpyxl.load_workbook(caminho_planilha)\n",
    "    sheet = workbook.active\n",
    "\n",
    "    lista_nomes = [cell.value for cell in sheet['A']]\n",
    "    workbook.close()\n",
    "\n",
    "    return lista_nomes\n",
    "\n",
    "# Função para renomear os arquivos na pasta\n",
    "def renomear_arquivos(pasta, lista_nomes):\n",
    "    lista_arquivos = os.listdir(pasta)\n",
    "\n",
    "    for i, arquivo in enumerate(lista_arquivos):\n",
    "        nome_cliente = lista_nomes[i]\n",
    "        novo_nome = f'NFS-e 2023.12 - {nome_cliente}.pdf'\n",
    "\n",
    "        caminho_antigo = os.path.join(pasta, arquivo)\n",
    "        caminho_novo = os.path.join(pasta, novo_nome)\n",
    "\n",
    "        os.rename(caminho_antigo, caminho_novo)\n",
    "        print(f'Renomeando {arquivo} para {novo_nome}')\n",
    "\n",
    "# Obtém a lista de nomes da planilha\n",
    "lista_nomes = obter_lista_nomes(caminho_planilha)\n",
    "\n",
    "# Renomeia os arquivos na pasta de acordo com a lista de nomes\n",
    "renomear_arquivos(pasta_notas, lista_nomes)\n"
   ]
  }
 ],
 "metadata": {
  "kernelspec": {
   "display_name": "Python 3",
   "language": "python",
   "name": "python3"
  },
  "language_info": {
   "codemirror_mode": {
    "name": "ipython",
    "version": 3
   },
   "file_extension": ".py",
   "mimetype": "text/x-python",
   "name": "python",
   "nbconvert_exporter": "python",
   "pygments_lexer": "ipython3",
   "version": "3.12.0"
  }
 },
 "nbformat": 4,
 "nbformat_minor": 2
}
